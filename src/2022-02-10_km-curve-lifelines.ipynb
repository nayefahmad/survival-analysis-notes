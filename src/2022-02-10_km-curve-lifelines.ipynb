{
 "cells": [
  {
   "cell_type": "markdown",
   "metadata": {},
   "source": [
    "# Using lifelines to fit KM curves"
   ]
  },
  {
   "cell_type": "markdown",
   "metadata": {},
   "source": [
    "References:<br>\n",
    "  - https://lifelines.readthedocs.io/en/latest/fitters/univariate/KaplanMeierFitter.html  # noqa"
   ]
  },
  {
   "cell_type": "code",
   "execution_count": null,
   "metadata": {},
   "outputs": [],
   "source": [
    "from lifelines import KaplanMeierFitter, NelsonAalenFitter\n",
    "from lifelines.datasets import load_waltons\n",
    "import matplotlib.pyplot as plt\n",
    "import numpy as np\n",
    "import pandas as pd"
   ]
  },
  {
   "cell_type": "code",
   "execution_count": null,
   "metadata": {},
   "outputs": [],
   "source": [
    "from IPython.core.interactiveshell import InteractiveShell  # noqa"
   ]
  },
  {
   "cell_type": "code",
   "execution_count": null,
   "metadata": {},
   "outputs": [],
   "source": [
    "InteractiveShell.ast_node_interactivity = \"all\""
   ]
  },
  {
   "cell_type": "markdown",
   "metadata": {},
   "source": [
    "## Example 1"
   ]
  },
  {
   "cell_type": "code",
   "execution_count": null,
   "metadata": {},
   "outputs": [],
   "source": [
    "waltons = load_waltons()\n",
    "waltons.columns = [\"time\", \"event\", \"group\"]\n",
    "waltons.describe(include=\"all\").T"
   ]
  },
  {
   "cell_type": "code",
   "execution_count": null,
   "metadata": {},
   "outputs": [],
   "source": [
    "kmf = KaplanMeierFitter(label=\"waltons_data\")\n",
    "kmf.fit(waltons[\"time\"], waltons[\"event\"])\n",
    "kmf.plot_survival_function()\n",
    "plt.show()"
   ]
  },
  {
   "cell_type": "markdown",
   "metadata": {},
   "source": [
    "## Smoothing the survival curve by using smoothed hazard function"
   ]
  },
  {
   "cell_type": "markdown",
   "metadata": {},
   "source": [
    "Reference: [github link](https://github.com/nayefahmad/survival-analysis-notes/blob/main/src/2022-02-09_smoothing-the-km-estimate.md) # noqa"
   ]
  },
  {
   "cell_type": "markdown",
   "metadata": {},
   "source": [
    "This is the `gastricXelox` data in R package `asaur`."
   ]
  },
  {
   "cell_type": "code",
   "execution_count": null,
   "metadata": {},
   "outputs": [],
   "source": [
    "time_months = [\n",
    "    0.9256198,\n",
    "    1.8512397,\n",
    "    1.8512397,\n",
    "    1.8512397,\n",
    "    2.0826446,\n",
    "    2.5454545,\n",
    "    2.7768595,\n",
    "    3.0082645,\n",
    "    3.7024793,\n",
    "    3.7024793,\n",
    "    3.9338843,\n",
    "    3.9338843,\n",
    "    4.3966942,\n",
    "    4.8595041,\n",
    "    5.5537190,\n",
    "    5.5537190,\n",
    "    5.7851240,\n",
    "    6.4793388,\n",
    "    6.4793388,\n",
    "    6.9421488,\n",
    "    8.5619835,\n",
    "    8.5619835,\n",
    "    9.7190083,\n",
    "    9.9504132,\n",
    "    9.9504132,\n",
    "    10.6446281,\n",
    "    11.1074380,\n",
    "    11.5702479,\n",
    "    11.8016529,\n",
    "    12.2644628,\n",
    "    12.4958678,\n",
    "    13.1900826,\n",
    "    13.6528926,\n",
    "    13.6528926,\n",
    "    13.8842975,\n",
    "    14.8099174,\n",
    "    15.2727273,\n",
    "    17.5867769,\n",
    "    18.0495868,\n",
    "    21.0578512,\n",
    "    27.5371901,\n",
    "    27.7685950,\n",
    "    32.1652893,\n",
    "    40.7272727,\n",
    "    43.2727273,\n",
    "    46.9752066,\n",
    "    50.2148760,\n",
    "    58.5454545,\n",
    "]"
   ]
  },
  {
   "cell_type": "code",
   "execution_count": null,
   "metadata": {},
   "outputs": [],
   "source": [
    "delta = [\n",
    "    1,\n",
    "    1,\n",
    "    1,\n",
    "    1,\n",
    "    1,\n",
    "    1,\n",
    "    1,\n",
    "    1,\n",
    "    1,\n",
    "    1,\n",
    "    1,\n",
    "    1,\n",
    "    1,\n",
    "    1,\n",
    "    1,\n",
    "    1,\n",
    "    1,\n",
    "    1,\n",
    "    1,\n",
    "    1,\n",
    "    1,\n",
    "    1,\n",
    "    1,\n",
    "    1,\n",
    "    0,\n",
    "    1,\n",
    "    0,\n",
    "    0,\n",
    "    0,\n",
    "    1,\n",
    "    0,\n",
    "    0,\n",
    "    0,\n",
    "    1,\n",
    "    1,\n",
    "    1,\n",
    "    1,\n",
    "    1,\n",
    "    1,\n",
    "    0,\n",
    "    0,\n",
    "    0,\n",
    "    0,\n",
    "    0,\n",
    "    0,\n",
    "    0,\n",
    "    0,\n",
    "    0,\n",
    "]"
   ]
  },
  {
   "cell_type": "markdown",
   "metadata": {},
   "source": [
    "KM curve:"
   ]
  },
  {
   "cell_type": "code",
   "execution_count": null,
   "metadata": {},
   "outputs": [],
   "source": [
    "km2 = KaplanMeierFitter(label=\"gastricXelox data\")\n",
    "km2.fit(time_months, delta)\n",
    "fig, ax = plt.subplots()\n",
    "km2.plot_survival_function(ax=ax)\n",
    "ax.set_title('KM estimate of survival function')\n",
    "fig.show()"
   ]
  },
  {
   "cell_type": "markdown",
   "metadata": {},
   "source": [
    "## Nelson-Aalen-based cumulative hazard function and smoothed hazard fn:"
   ]
  },
  {
   "cell_type": "code",
   "execution_count": null,
   "metadata": {},
   "outputs": [],
   "source": [
    "na1 = NelsonAalenFitter()\n",
    "na1.fit(time_months, delta)\n",
    "fig, ax = plt.subplots()\n",
    "na1.plot_cumulative_hazard(ax=ax)\n",
    "ax.set_title(\"Estimated cumulative hazard function\")\n",
    "fig.show()"
   ]
  },
  {
   "cell_type": "code",
   "execution_count": null,
   "metadata": {},
   "outputs": [],
   "source": [
    "bandwidth = 3\n",
    "fig, ax = plt.subplots()\n",
    "na1.plot_hazard(bandwidth=bandwidth, ax=ax)\n",
    "ax.set_title(\"Estimated hazard function\")\n",
    "fig.show()"
   ]
  },
  {
   "cell_type": "markdown",
   "metadata": {},
   "source": [
    "Recover the data underlying the plot using the `smoothed_hazard_()` method"
   ]
  },
  {
   "cell_type": "code",
   "execution_count": null,
   "metadata": {},
   "outputs": [],
   "source": [
    "df_smoothed_hazard = (\n",
    "    na1.smoothed_hazard_(bandwidth=bandwidth)\n",
    "    .reset_index()\n",
    "    .rename(\n",
    "        columns={\"index\": \"time\", \"differenced-NA_estimate\": \"hazard_estimate\"}\n",
    "    )  # noqa\n",
    ")\n",
    "df_smoothed_hazard.head()\n",
    "df_smoothed_hazard.tail()"
   ]
  },
  {
   "cell_type": "code",
   "execution_count": null,
   "metadata": {},
   "outputs": [],
   "source": [
    "n_haz = len(df_smoothed_hazard)\n",
    "times_diff = df_smoothed_hazard[\"time\"].diff()\n",
    "times_diff = times_diff[1:].reset_index(drop=True)"
   ]
  },
  {
   "cell_type": "code",
   "execution_count": null,
   "metadata": {},
   "outputs": [],
   "source": [
    "hazards = df_smoothed_hazard[\"hazard_estimate\"][0:-1]\n",
    "assert len(hazards) == len(times_diff)"
   ]
  },
  {
   "cell_type": "code",
   "execution_count": null,
   "metadata": {},
   "outputs": [],
   "source": [
    "surv_smoothed = np.exp(-np.cumsum(hazards * times_diff))"
   ]
  },
  {
   "cell_type": "markdown",
   "metadata": {},
   "source": [
    "todo: show km estimate on same graph<br>\n",
    "df_surv_smoothed = pd.DataFrame({'time': time_months,<br>\n",
    "                                 'surv_from_smoothed_hazard': surv_smoothed})"
   ]
  },
  {
   "cell_type": "code",
   "execution_count": null,
   "metadata": {},
   "outputs": [],
   "source": [
    "fig, ax = plt.subplots()\n",
    "surv_smoothed.plot(ax=ax)\n",
    "ax.set_ylim((0, 1))\n",
    "ax.set_title(f'Estimated survival curve based on smoothed estimate of hazard function \\nBandwidth={bandwidth}')\n",
    "fig.show()"
   ]
  },
  {
   "cell_type": "code",
   "execution_count": null,
   "metadata": {},
   "outputs": [],
   "source": [
    "km2.survival_function_"
   ]
  }
 ],
 "metadata": {
  "kernelspec": {
   "display_name": "Python 3",
   "language": "python",
   "name": "python3"
  },
  "language_info": {
   "codemirror_mode": {
    "name": "ipython",
    "version": 3
   },
   "file_extension": ".py",
   "mimetype": "text/x-python",
   "name": "python",
   "nbconvert_exporter": "python",
   "pygments_lexer": "ipython3",
   "version": "3.6.4"
  }
 },
 "nbformat": 4,
 "nbformat_minor": 2
}