{
 "cells": [
  {
   "cell_type": "markdown",
   "metadata": {},
   "source": [
    "# Using lifelines to fit KM curves"
   ]
  },
  {
   "cell_type": "markdown",
   "metadata": {},
   "source": [
    "References:<br>\n",
    "  - https://lifelines.readthedocs.io/en/latest/fitters/univariate/KaplanMeierFitter.html  # noqa"
   ]
  },
  {
   "cell_type": "code",
   "execution_count": 73,
   "metadata": {},
   "outputs": [],
   "source": [
    "from lifelines import KaplanMeierFitter, NelsonAalenFitter\n",
    "from lifelines.datasets import load_waltons\n",
    "import matplotlib.pyplot as plt\n",
    "import numpy as np\n",
    "import pandas as pd"
   ]
  },
  {
   "cell_type": "code",
   "execution_count": 74,
   "metadata": {},
   "outputs": [],
   "source": [
    "from IPython.core.interactiveshell import InteractiveShell  # noqa"
   ]
  },
  {
   "cell_type": "code",
   "execution_count": 75,
   "metadata": {},
   "outputs": [],
   "source": [
    "InteractiveShell.ast_node_interactivity = \"all\""
   ]
  },
  {
   "cell_type": "markdown",
   "metadata": {},
   "source": [
    "## Example 1"
   ]
  },
  {
   "cell_type": "code",
   "execution_count": 76,
   "metadata": {},
   "outputs": [
    {
     "data": {
      "text/html": [
       "<div>\n",
       "<style scoped>\n",
       "    .dataframe tbody tr th:only-of-type {\n",
       "        vertical-align: middle;\n",
       "    }\n",
       "\n",
       "    .dataframe tbody tr th {\n",
       "        vertical-align: top;\n",
       "    }\n",
       "\n",
       "    .dataframe thead th {\n",
       "        text-align: right;\n",
       "    }\n",
       "</style>\n",
       "<table border=\"1\" class=\"dataframe\">\n",
       "  <thead>\n",
       "    <tr style=\"text-align: right;\">\n",
       "      <th></th>\n",
       "      <th>count</th>\n",
       "      <th>unique</th>\n",
       "      <th>top</th>\n",
       "      <th>freq</th>\n",
       "      <th>mean</th>\n",
       "      <th>std</th>\n",
       "      <th>min</th>\n",
       "      <th>25%</th>\n",
       "      <th>50%</th>\n",
       "      <th>75%</th>\n",
       "      <th>max</th>\n",
       "    </tr>\n",
       "  </thead>\n",
       "  <tbody>\n",
       "    <tr>\n",
       "      <th>time</th>\n",
       "      <td>163</td>\n",
       "      <td>NaN</td>\n",
       "      <td>NaN</td>\n",
       "      <td>NaN</td>\n",
       "      <td>49.6135</td>\n",
       "      <td>17.078</td>\n",
       "      <td>6</td>\n",
       "      <td>41</td>\n",
       "      <td>56</td>\n",
       "      <td>61</td>\n",
       "      <td>75</td>\n",
       "    </tr>\n",
       "    <tr>\n",
       "      <th>event</th>\n",
       "      <td>163</td>\n",
       "      <td>NaN</td>\n",
       "      <td>NaN</td>\n",
       "      <td>NaN</td>\n",
       "      <td>0.957055</td>\n",
       "      <td>0.203357</td>\n",
       "      <td>0</td>\n",
       "      <td>1</td>\n",
       "      <td>1</td>\n",
       "      <td>1</td>\n",
       "      <td>1</td>\n",
       "    </tr>\n",
       "    <tr>\n",
       "      <th>group</th>\n",
       "      <td>163</td>\n",
       "      <td>2</td>\n",
       "      <td>control</td>\n",
       "      <td>129</td>\n",
       "      <td>NaN</td>\n",
       "      <td>NaN</td>\n",
       "      <td>NaN</td>\n",
       "      <td>NaN</td>\n",
       "      <td>NaN</td>\n",
       "      <td>NaN</td>\n",
       "      <td>NaN</td>\n",
       "    </tr>\n",
       "  </tbody>\n",
       "</table>\n",
       "</div>"
      ],
      "text/plain": [
       "      count unique      top freq      mean       std  min  25%  50%  75%  max\n",
       "time    163    NaN      NaN  NaN   49.6135    17.078    6   41   56   61   75\n",
       "event   163    NaN      NaN  NaN  0.957055  0.203357    0    1    1    1    1\n",
       "group   163      2  control  129       NaN       NaN  NaN  NaN  NaN  NaN  NaN"
      ]
     },
     "execution_count": 76,
     "metadata": {},
     "output_type": "execute_result"
    }
   ],
   "source": [
    "waltons = load_waltons()\n",
    "waltons.columns = [\"time\", \"event\", \"group\"]\n",
    "waltons.describe(include=\"all\").T"
   ]
  },
  {
   "cell_type": "code",
   "execution_count": 77,
   "metadata": {},
   "outputs": [
    {
     "data": {
      "text/plain": [
       "<lifelines.KaplanMeierFitter:\"waltons_data\", fitted with 163 total observations, 7 right-censored observations>"
      ]
     },
     "execution_count": 77,
     "metadata": {},
     "output_type": "execute_result"
    },
    {
     "data": {
      "text/plain": [
       "<AxesSubplot:xlabel='timeline'>"
      ]
     },
     "execution_count": 77,
     "metadata": {},
     "output_type": "execute_result"
    },
    {
     "data": {
      "image/png": "[encoded data removed]",
      "text/plain": [
       "<Figure size 432x288 with 1 Axes>"
      ]
     },
     "metadata": {
      "needs_background": "light"
     },
     "output_type": "display_data"
    }
   ],
   "source": [
    "kmf = KaplanMeierFitter(label=\"waltons_data\")\n",
    "kmf.fit(waltons[\"time\"], waltons[\"event\"])\n",
    "kmf.plot_survival_function()\n",
    "plt.show()"
   ]
  },
  {
   "cell_type": "markdown",
   "metadata": {},
   "source": [
    "## Smoothing the survival curve by using smoothed hazard function"
   ]
  },
  {
   "cell_type": "markdown",
   "metadata": {},
   "source": [
    "Reference: [github link](https://github.com/nayefahmad/survival-analysis-notes/blob/main/src/2022-02-09_smoothing-the-km-estimate.md) # noqa"
   ]
  },
  {
   "cell_type": "markdown",
   "metadata": {},
   "source": [
    "This is the `gastricXelox` data in R package `asaur`."
   ]
  },
  {
   "cell_type": "code",
   "execution_count": 78,
   "metadata": {},
   "outputs": [],
   "source": [
    "time_months = [\n",
    "    0.9256198,\n",
    "    1.8512397,\n",
    "    1.8512397,\n",
    "    1.8512397,\n",
    "    2.0826446,\n",
    "    2.5454545,\n",
    "    2.7768595,\n",
    "    3.0082645,\n",
    "    3.7024793,\n",
    "    3.7024793,\n",
    "    3.9338843,\n",
    "    3.9338843,\n",
    "    4.3966942,\n",
    "    4.8595041,\n",
    "    5.5537190,\n",
    "    5.5537190,\n",
    "    5.7851240,\n",
    "    6.4793388,\n",
    "    6.4793388,\n",
    "    6.9421488,\n",
    "    8.5619835,\n",
    "    8.5619835,\n",
    "    9.7190083,\n",
    "    9.9504132,\n",
    "    9.9504132,\n",
    "    10.6446281,\n",
    "    11.1074380,\n",
    "    11.5702479,\n",
    "    11.8016529,\n",
    "    12.2644628,\n",
    "    12.4958678,\n",
    "    13.1900826,\n",
    "    13.6528926,\n",
    "    13.6528926,\n",
    "    13.8842975,\n",
    "    14.8099174,\n",
    "    15.2727273,\n",
    "    17.5867769,\n",
    "    18.0495868,\n",
    "    21.0578512,\n",
    "    27.5371901,\n",
    "    27.7685950,\n",
    "    32.1652893,\n",
    "    40.7272727,\n",
    "    43.2727273,\n",
    "    46.9752066,\n",
    "    50.2148760,\n",
    "    58.5454545,\n",
    "]"
   ]
  },
  {
   "cell_type": "code",
   "execution_count": 79,
   "metadata": {},
   "outputs": [],
   "source": [
    "delta = [\n",
    "    1,\n",
    "    1,\n",
    "    1,\n",
    "    1,\n",
    "    1,\n",
    "    1,\n",
    "    1,\n",
    "    1,\n",
    "    1,\n",
    "    1,\n",
    "    1,\n",
    "    1,\n",
    "    1,\n",
    "    1,\n",
    "    1,\n",
    "    1,\n",
    "    1,\n",
    "    1,\n",
    "    1,\n",
    "    1,\n",
    "    1,\n",
    "    1,\n",
    "    1,\n",
    "    1,\n",
    "    0,\n",
    "    1,\n",
    "    0,\n",
    "    0,\n",
    "    0,\n",
    "    1,\n",
    "    0,\n",
    "    0,\n",
    "    0,\n",
    "    1,\n",
    "    1,\n",
    "    1,\n",
    "    1,\n",
    "    1,\n",
    "    1,\n",
    "    0,\n",
    "    0,\n",
    "    0,\n",
    "    0,\n",
    "    0,\n",
    "    0,\n",
    "    0,\n",
    "    0,\n",
    "    0,\n",
    "]"
   ]
  },
  {
   "cell_type": "markdown",
   "metadata": {},
   "source": [
    "KM curve:"
   ]
  },
  {
   "cell_type": "code",
   "execution_count": 80,
   "metadata": {},
   "outputs": [
    {
     "data": {
      "text/plain": [
       "<lifelines.KaplanMeierFitter:\"gastricXelox data\", fitted with 48 total observations, 16 right-censored observations>"
      ]
     },
     "execution_count": 80,
     "metadata": {},
     "output_type": "execute_result"
    },
    {
     "data": {
      "text/plain": [
       "<AxesSubplot:xlabel='timeline'>"
      ]
     },
     "execution_count": 80,
     "metadata": {},
     "output_type": "execute_result"
    },
    {
     "data": {
      "text/plain": [
       "Text(0.5, 1.0, 'KM estimate of survival function')"
      ]
     },
     "execution_count": 80,
     "metadata": {},
     "output_type": "execute_result"
    },
    {
     "name": "stderr",
     "output_type": "stream",
     "text": [
      "c:\\Nayef\\survival-analysis-notes\\.venv\\lib\\site-packages\\ipykernel_launcher.py:6: UserWarning: Matplotlib is currently using module://ipykernel.pylab.backend_inline, which is a non-GUI backend, so cannot show the figure.\n",
      "  \n"
     ]
    },
    {
     "data": {
      "image/png": "[encoded data removed]",
      "text/plain": [
       "<Figure size 432x288 with 1 Axes>"
      ]
     },
     "metadata": {
      "needs_background": "light"
     },
     "output_type": "display_data"
    }
   ],
   "source": [
    "km2 = KaplanMeierFitter(label=\"gastricXelox data\")\n",
    "km2.fit(time_months, delta)\n",
    "fig, ax = plt.subplots()\n",
    "km2.plot_survival_function(ax=ax)\n",
    "ax.set_title('KM estimate of survival function')\n",
    "fig.show()"
   ]
  },
  {
   "cell_type": "markdown",
   "metadata": {},
   "source": [
    "## Nelson-Aalen-based cumulative hazard function and smoothed hazard fn:"
   ]
  },
  {
   "cell_type": "code",
   "execution_count": 81,
   "metadata": {},
   "outputs": [
    {
     "data": {
      "text/plain": [
       "<lifelines.NelsonAalenFitter:\"NA_estimate\", fitted with 48 total observations, 16 right-censored observations>"
      ]
     },
     "execution_count": 81,
     "metadata": {},
     "output_type": "execute_result"
    },
    {
     "data": {
      "text/plain": [
       "<AxesSubplot:xlabel='timeline'>"
      ]
     },
     "execution_count": 81,
     "metadata": {},
     "output_type": "execute_result"
    },
    {
     "data": {
      "text/plain": [
       "Text(0.5, 1.0, 'Estimated cumulative hazard function')"
      ]
     },
     "execution_count": 81,
     "metadata": {},
     "output_type": "execute_result"
    },
    {
     "name": "stderr",
     "output_type": "stream",
     "text": [
      "c:\\Nayef\\survival-analysis-notes\\.venv\\lib\\site-packages\\ipykernel_launcher.py:6: UserWarning: Matplotlib is currently using module://ipykernel.pylab.backend_inline, which is a non-GUI backend, so cannot show the figure.\n",
      "  \n"
     ]
    },
    {
     "data": {
      "image/png": "[encoded data removed]",
      "text/plain": [
       "<Figure size 432x288 with 1 Axes>"
      ]
     },
     "metadata": {
      "needs_background": "light"
     },
     "output_type": "display_data"
    }
   ],
   "source": [
    "na1 = NelsonAalenFitter()\n",
    "na1.fit(time_months, delta)\n",
    "fig, ax = plt.subplots()\n",
    "na1.plot_cumulative_hazard(ax=ax)\n",
    "ax.set_title(\"Estimated cumulative hazard function\")\n",
    "fig.show()"
   ]
  },
  {
   "cell_type": "code",
   "execution_count": 82,
   "metadata": {},
   "outputs": [
    {
     "data": {
      "text/plain": [
       "<AxesSubplot:>"
      ]
     },
     "execution_count": 82,
     "metadata": {},
     "output_type": "execute_result"
    },
    {
     "data": {
      "text/plain": [
       "Text(0.5, 1.0, 'Estimated hazard function')"
      ]
     },
     "execution_count": 82,
     "metadata": {},
     "output_type": "execute_result"
    },
    {
     "name": "stderr",
     "output_type": "stream",
     "text": [
      "c:\\Nayef\\survival-analysis-notes\\.venv\\lib\\site-packages\\ipykernel_launcher.py:5: UserWarning: Matplotlib is currently using module://ipykernel.pylab.backend_inline, which is a non-GUI backend, so cannot show the figure.\n",
      "  \"\"\"\n"
     ]
    },
    {
     "data": {
      "image/png": "[encoded data removed]",
      "text/plain": [
       "<Figure size 432x288 with 1 Axes>"
      ]
     },
     "metadata": {
      "needs_background": "light"
     },
     "output_type": "display_data"
    }
   ],
   "source": [
    "bandwidth = 3\n",
    "fig, ax = plt.subplots()\n",
    "na1.plot_hazard(bandwidth=bandwidth, ax=ax)\n",
    "ax.set_title(\"Estimated hazard function\")\n",
    "fig.show()"
   ]
  },
  {
   "cell_type": "markdown",
   "metadata": {},
   "source": [
    "Recover the data underlying the plot using the `smoothed_hazard_()` method"
   ]
  },
  {
   "cell_type": "code",
   "execution_count": 83,
   "metadata": {},
   "outputs": [
    {
     "data": {
      "text/html": [
       "<div>\n",
       "<style scoped>\n",
       "    .dataframe tbody tr th:only-of-type {\n",
       "        vertical-align: middle;\n",
       "    }\n",
       "\n",
       "    .dataframe tbody tr th {\n",
       "        vertical-align: top;\n",
       "    }\n",
       "\n",
       "    .dataframe thead th {\n",
       "        text-align: right;\n",
       "    }\n",
       "</style>\n",
       "<table border=\"1\" class=\"dataframe\">\n",
       "  <thead>\n",
       "    <tr style=\"text-align: right;\">\n",
       "      <th></th>\n",
       "      <th>time</th>\n",
       "      <th>hazard_estimate</th>\n",
       "    </tr>\n",
       "  </thead>\n",
       "  <tbody>\n",
       "    <tr>\n",
       "      <th>0</th>\n",
       "      <td>0.000000</td>\n",
       "      <td>0.020236</td>\n",
       "    </tr>\n",
       "    <tr>\n",
       "      <th>1</th>\n",
       "      <td>0.925620</td>\n",
       "      <td>0.037579</td>\n",
       "    </tr>\n",
       "    <tr>\n",
       "      <th>2</th>\n",
       "      <td>1.851240</td>\n",
       "      <td>0.059442</td>\n",
       "    </tr>\n",
       "    <tr>\n",
       "      <th>3</th>\n",
       "      <td>2.082645</td>\n",
       "      <td>0.064217</td>\n",
       "    </tr>\n",
       "    <tr>\n",
       "      <th>4</th>\n",
       "      <td>2.545454</td>\n",
       "      <td>0.070805</td>\n",
       "    </tr>\n",
       "  </tbody>\n",
       "</table>\n",
       "</div>"
      ],
      "text/plain": [
       "       time  hazard_estimate\n",
       "0  0.000000         0.020236\n",
       "1  0.925620         0.037579\n",
       "2  1.851240         0.059442\n",
       "3  2.082645         0.064217\n",
       "4  2.545454         0.070805"
      ]
     },
     "execution_count": 83,
     "metadata": {},
     "output_type": "execute_result"
    },
    {
     "data": {
      "text/html": [
       "<div>\n",
       "<style scoped>\n",
       "    .dataframe tbody tr th:only-of-type {\n",
       "        vertical-align: middle;\n",
       "    }\n",
       "\n",
       "    .dataframe tbody tr th {\n",
       "        vertical-align: top;\n",
       "    }\n",
       "\n",
       "    .dataframe thead th {\n",
       "        text-align: right;\n",
       "    }\n",
       "</style>\n",
       "<table border=\"1\" class=\"dataframe\">\n",
       "  <thead>\n",
       "    <tr style=\"text-align: right;\">\n",
       "      <th></th>\n",
       "      <th>time</th>\n",
       "      <th>hazard_estimate</th>\n",
       "    </tr>\n",
       "  </thead>\n",
       "  <tbody>\n",
       "    <tr>\n",
       "      <th>35</th>\n",
       "      <td>40.727273</td>\n",
       "      <td>0.0</td>\n",
       "    </tr>\n",
       "    <tr>\n",
       "      <th>36</th>\n",
       "      <td>43.272727</td>\n",
       "      <td>0.0</td>\n",
       "    </tr>\n",
       "    <tr>\n",
       "      <th>37</th>\n",
       "      <td>46.975207</td>\n",
       "      <td>0.0</td>\n",
       "    </tr>\n",
       "    <tr>\n",
       "      <th>38</th>\n",
       "      <td>50.214876</td>\n",
       "      <td>0.0</td>\n",
       "    </tr>\n",
       "    <tr>\n",
       "      <th>39</th>\n",
       "      <td>58.545454</td>\n",
       "      <td>0.0</td>\n",
       "    </tr>\n",
       "  </tbody>\n",
       "</table>\n",
       "</div>"
      ],
      "text/plain": [
       "         time  hazard_estimate\n",
       "35  40.727273              0.0\n",
       "36  43.272727              0.0\n",
       "37  46.975207              0.0\n",
       "38  50.214876              0.0\n",
       "39  58.545454              0.0"
      ]
     },
     "execution_count": 83,
     "metadata": {},
     "output_type": "execute_result"
    }
   ],
   "source": [
    "df_smoothed_hazard = (\n",
    "    na1.smoothed_hazard_(bandwidth=bandwidth)\n",
    "    .reset_index()\n",
    "    .rename(\n",
    "        columns={\"index\": \"time\", \"differenced-NA_estimate\": \"hazard_estimate\"}\n",
    "    )  # noqa\n",
    ")\n",
    "df_smoothed_hazard.head()\n",
    "df_smoothed_hazard.tail()"
   ]
  },
  {
   "cell_type": "code",
   "execution_count": 84,
   "metadata": {},
   "outputs": [],
   "source": [
    "n_haz = len(df_smoothed_hazard)\n",
    "times_diff = df_smoothed_hazard[\"time\"].diff()\n",
    "times_diff = times_diff[1:].reset_index(drop=True)"
   ]
  },
  {
   "cell_type": "code",
   "execution_count": 85,
   "metadata": {},
   "outputs": [],
   "source": [
    "hazards = df_smoothed_hazard[\"hazard_estimate\"][0:-1]\n",
    "assert len(hazards) == len(times_diff)"
   ]
  },
  {
   "cell_type": "code",
   "execution_count": 86,
   "metadata": {},
   "outputs": [],
   "source": [
    "surv_smoothed = np.exp(-np.cumsum(hazards * times_diff))"
   ]
  },
  {
   "cell_type": "markdown",
   "metadata": {},
   "source": [
    "todo: show km estimate on same graph<br>\n",
    "df_surv_smoothed = pd.DataFrame({'time': time_months,<br>\n",
    "                                 'surv_from_smoothed_hazard': surv_smoothed})"
   ]
  },
  {
   "cell_type": "code",
   "execution_count": 87,
   "metadata": {},
   "outputs": [
    {
     "data": {
      "text/plain": [
       "<AxesSubplot:>"
      ]
     },
     "execution_count": 87,
     "metadata": {},
     "output_type": "execute_result"
    },
    {
     "data": {
      "text/plain": [
       "(0.0, 1.0)"
      ]
     },
     "execution_count": 87,
     "metadata": {},
     "output_type": "execute_result"
    },
    {
     "data": {
      "text/plain": [
       "Text(0.5, 1.0, 'Estimated survival curve based on smoothed estimate of hazard function \\nBandwidth=3')"
      ]
     },
     "execution_count": 87,
     "metadata": {},
     "output_type": "execute_result"
    },
    {
     "name": "stderr",
     "output_type": "stream",
     "text": [
      "c:\\Nayef\\survival-analysis-notes\\.venv\\lib\\site-packages\\ipykernel_launcher.py:5: UserWarning: Matplotlib is currently using module://ipykernel.pylab.backend_inline, which is a non-GUI backend, so cannot show the figure.\n",
      "  \"\"\"\n"
     ]
    },
    {
     "data": {
      "image/png": "[encoded data removed]",
      "text/plain": [
       "<Figure size 432x288 with 1 Axes>"
      ]
     },
     "metadata": {
      "needs_background": "light"
     },
     "output_type": "display_data"
    }
   ],
   "source": [
    "fig, ax = plt.subplots()\n",
    "surv_smoothed.plot(ax=ax)\n",
    "ax.set_ylim((0, 1))\n",
    "ax.set_title(f'Estimated survival curve based on smoothed estimate of hazard function \\nBandwidth={bandwidth}')\n",
    "fig.show()"
   ]
  },
  {
   "cell_type": "code",
   "execution_count": 88,
   "metadata": {},
   "outputs": [
    {
     "data": {
      "text/html": [
       "<div>\n",
       "<style scoped>\n",
       "    .dataframe tbody tr th:only-of-type {\n",
       "        vertical-align: middle;\n",
       "    }\n",
       "\n",
       "    .dataframe tbody tr th {\n",
       "        vertical-align: top;\n",
       "    }\n",
       "\n",
       "    .dataframe thead th {\n",
       "        text-align: right;\n",
       "    }\n",
       "</style>\n",
       "<table border=\"1\" class=\"dataframe\">\n",
       "  <thead>\n",
       "    <tr style=\"text-align: right;\">\n",
       "      <th></th>\n",
       "      <th>gastricXelox data</th>\n",
       "    </tr>\n",
       "    <tr>\n",
       "      <th>timeline</th>\n",
       "      <th></th>\n",
       "    </tr>\n",
       "  </thead>\n",
       "  <tbody>\n",
       "    <tr>\n",
       "      <th>0.000000</th>\n",
       "      <td>1.000000</td>\n",
       "    </tr>\n",
       "    <tr>\n",
       "      <th>0.925620</th>\n",
       "      <td>0.979167</td>\n",
       "    </tr>\n",
       "    <tr>\n",
       "      <th>1.851240</th>\n",
       "      <td>0.916667</td>\n",
       "    </tr>\n",
       "    <tr>\n",
       "      <th>2.082645</th>\n",
       "      <td>0.895833</td>\n",
       "    </tr>\n",
       "    <tr>\n",
       "      <th>2.545454</th>\n",
       "      <td>0.875000</td>\n",
       "    </tr>\n",
       "    <tr>\n",
       "      <th>2.776860</th>\n",
       "      <td>0.854167</td>\n",
       "    </tr>\n",
       "    <tr>\n",
       "      <th>3.008265</th>\n",
       "      <td>0.833333</td>\n",
       "    </tr>\n",
       "    <tr>\n",
       "      <th>3.702479</th>\n",
       "      <td>0.791667</td>\n",
       "    </tr>\n",
       "    <tr>\n",
       "      <th>3.933884</th>\n",
       "      <td>0.750000</td>\n",
       "    </tr>\n",
       "    <tr>\n",
       "      <th>4.396694</th>\n",
       "      <td>0.729167</td>\n",
       "    </tr>\n",
       "    <tr>\n",
       "      <th>4.859504</th>\n",
       "      <td>0.708333</td>\n",
       "    </tr>\n",
       "    <tr>\n",
       "      <th>5.553719</th>\n",
       "      <td>0.666667</td>\n",
       "    </tr>\n",
       "    <tr>\n",
       "      <th>5.785124</th>\n",
       "      <td>0.645833</td>\n",
       "    </tr>\n",
       "    <tr>\n",
       "      <th>6.479339</th>\n",
       "      <td>0.604167</td>\n",
       "    </tr>\n",
       "    <tr>\n",
       "      <th>6.942149</th>\n",
       "      <td>0.583333</td>\n",
       "    </tr>\n",
       "    <tr>\n",
       "      <th>8.561984</th>\n",
       "      <td>0.541667</td>\n",
       "    </tr>\n",
       "    <tr>\n",
       "      <th>9.719008</th>\n",
       "      <td>0.520833</td>\n",
       "    </tr>\n",
       "    <tr>\n",
       "      <th>9.950413</th>\n",
       "      <td>0.500000</td>\n",
       "    </tr>\n",
       "    <tr>\n",
       "      <th>10.644628</th>\n",
       "      <td>0.478261</td>\n",
       "    </tr>\n",
       "    <tr>\n",
       "      <th>11.107438</th>\n",
       "      <td>0.478261</td>\n",
       "    </tr>\n",
       "    <tr>\n",
       "      <th>11.570248</th>\n",
       "      <td>0.478261</td>\n",
       "    </tr>\n",
       "    <tr>\n",
       "      <th>11.801653</th>\n",
       "      <td>0.478261</td>\n",
       "    </tr>\n",
       "    <tr>\n",
       "      <th>12.264463</th>\n",
       "      <td>0.453089</td>\n",
       "    </tr>\n",
       "    <tr>\n",
       "      <th>12.495868</th>\n",
       "      <td>0.453089</td>\n",
       "    </tr>\n",
       "    <tr>\n",
       "      <th>13.190083</th>\n",
       "      <td>0.453089</td>\n",
       "    </tr>\n",
       "    <tr>\n",
       "      <th>13.652893</th>\n",
       "      <td>0.424771</td>\n",
       "    </tr>\n",
       "    <tr>\n",
       "      <th>13.884298</th>\n",
       "      <td>0.394430</td>\n",
       "    </tr>\n",
       "    <tr>\n",
       "      <th>14.809917</th>\n",
       "      <td>0.364090</td>\n",
       "    </tr>\n",
       "    <tr>\n",
       "      <th>15.272727</th>\n",
       "      <td>0.333749</td>\n",
       "    </tr>\n",
       "    <tr>\n",
       "      <th>17.586777</th>\n",
       "      <td>0.303408</td>\n",
       "    </tr>\n",
       "    <tr>\n",
       "      <th>18.049587</th>\n",
       "      <td>0.273067</td>\n",
       "    </tr>\n",
       "    <tr>\n",
       "      <th>21.057851</th>\n",
       "      <td>0.273067</td>\n",
       "    </tr>\n",
       "    <tr>\n",
       "      <th>27.537190</th>\n",
       "      <td>0.273067</td>\n",
       "    </tr>\n",
       "    <tr>\n",
       "      <th>27.768595</th>\n",
       "      <td>0.273067</td>\n",
       "    </tr>\n",
       "    <tr>\n",
       "      <th>32.165289</th>\n",
       "      <td>0.273067</td>\n",
       "    </tr>\n",
       "    <tr>\n",
       "      <th>40.727273</th>\n",
       "      <td>0.273067</td>\n",
       "    </tr>\n",
       "    <tr>\n",
       "      <th>43.272727</th>\n",
       "      <td>0.273067</td>\n",
       "    </tr>\n",
       "    <tr>\n",
       "      <th>46.975207</th>\n",
       "      <td>0.273067</td>\n",
       "    </tr>\n",
       "    <tr>\n",
       "      <th>50.214876</th>\n",
       "      <td>0.273067</td>\n",
       "    </tr>\n",
       "    <tr>\n",
       "      <th>58.545454</th>\n",
       "      <td>0.273067</td>\n",
       "    </tr>\n",
       "  </tbody>\n",
       "</table>\n",
       "</div>"
      ],
      "text/plain": [
       "           gastricXelox data\n",
       "timeline                    \n",
       "0.000000            1.000000\n",
       "0.925620            0.979167\n",
       "1.851240            0.916667\n",
       "2.082645            0.895833\n",
       "2.545454            0.875000\n",
       "2.776860            0.854167\n",
       "3.008265            0.833333\n",
       "3.702479            0.791667\n",
       "3.933884            0.750000\n",
       "4.396694            0.729167\n",
       "4.859504            0.708333\n",
       "5.553719            0.666667\n",
       "5.785124            0.645833\n",
       "6.479339            0.604167\n",
       "6.942149            0.583333\n",
       "8.561984            0.541667\n",
       "9.719008            0.520833\n",
       "9.950413            0.500000\n",
       "10.644628           0.478261\n",
       "11.107438           0.478261\n",
       "11.570248           0.478261\n",
       "11.801653           0.478261\n",
       "12.264463           0.453089\n",
       "12.495868           0.453089\n",
       "13.190083           0.453089\n",
       "13.652893           0.424771\n",
       "13.884298           0.394430\n",
       "14.809917           0.364090\n",
       "15.272727           0.333749\n",
       "17.586777           0.303408\n",
       "18.049587           0.273067\n",
       "21.057851           0.273067\n",
       "27.537190           0.273067\n",
       "27.768595           0.273067\n",
       "32.165289           0.273067\n",
       "40.727273           0.273067\n",
       "43.272727           0.273067\n",
       "46.975207           0.273067\n",
       "50.214876           0.273067\n",
       "58.545454           0.273067"
      ]
     },
     "execution_count": 88,
     "metadata": {},
     "output_type": "execute_result"
    }
   ],
   "source": [
    "km2.survival_function_"
   ]
  }
 ],
 "metadata": {
  "kernelspec": {
   "display_name": "Python 3",
   "language": "python",
   "name": "python3"
  },
  "language_info": {
   "codemirror_mode": {
    "name": "ipython",
    "version": 3
   },
   "file_extension": ".py",
   "mimetype": "text/x-python",
   "name": "python",
   "nbconvert_exporter": "python",
   "pygments_lexer": "ipython3",
   "version": "3.6.4"
  }
 },
 "nbformat": 4,
 "nbformat_minor": 2
}
