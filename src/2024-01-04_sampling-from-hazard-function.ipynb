{
 "cells": [
  {
   "cell_type": "markdown",
   "metadata": {},
   "source": [
    "\n",
    "<br>\n",
    "Sampling from an arbitrary hazard function<br>\n",
    "Reference: https://gist.github.com/jcrudy/10481743<br>\n"
   ]
  },
  {
   "cell_type": "code",
   "execution_count": 9,
   "metadata": {
    "ExecuteTime": {
     "end_time": "2024-01-10T15:02:36.018218500Z",
     "start_time": "2024-01-10T15:02:35.952219100Z"
    }
   },
   "outputs": [
    {
     "name": "stdout",
     "output_type": "stream",
     "text": [
      "C:\\Nayef\\survival-analysis-notes\\.venv\\Scripts\\python.exe\n"
     ]
    }
   ],
   "source": [
    "import sys\n",
    "print(sys.executable)"
   ]
  },
  {
   "cell_type": "code",
   "execution_count": 10,
   "metadata": {
    "ExecuteTime": {
     "end_time": "2024-01-10T15:02:36.020206700Z",
     "start_time": "2024-01-10T15:02:35.969207300Z"
    }
   },
   "outputs": [],
   "source": [
    "import numpy as np\n",
    "import scipy.integrate\n",
    "from matplotlib import pyplot as plt\n",
    "from statsmodels.distributions import ECDF"
   ]
  },
  {
   "cell_type": "code",
   "execution_count": 11,
   "metadata": {
    "ExecuteTime": {
     "end_time": "2024-01-10T15:02:36.021214400Z",
     "start_time": "2024-01-10T15:02:35.989208500Z"
    }
   },
   "outputs": [],
   "source": [
    "class HazardSampler:\n",
    "    def __init__(self, hazard, start=0.0, step=None):\n",
    "        self.hazard = hazard\n",
    "        if step is None:\n",
    "            # heuristic for setting step size to be used in numerical inverse CDF\n",
    "            # implementation\n",
    "            # todo: are there better heuristics?\n",
    "            h0 = hazard(0.0)\n",
    "            if h0 > 0:\n",
    "                step = 2.0 / hazard(0.0)\n",
    "            else:\n",
    "                # Reasonable default. Not efficient in some cases.\n",
    "                step = 200.0 / scipy.integrate.quad(hazard, 0.0, 100.0)\n",
    "        self.cumulative_hazard = CumulativeHazard(hazard)\n",
    "        self.survival_function = SurvivalFunction(self.cumulative_hazard)\n",
    "        self.cdf = Cdf(self.survival_function)\n",
    "        self.inverse_cdf = InverseCdf(self.cdf, start=start, step=step, lower=0.0)\n",
    "        self.sampler = InversionTransformSampler(self.inverse_cdf)\n",
    "    def draw(self):\n",
    "        return self.sampler.draw()"
   ]
  },
  {
   "cell_type": "code",
   "execution_count": 12,
   "metadata": {
    "ExecuteTime": {
     "end_time": "2024-01-10T15:02:36.021214400Z",
     "start_time": "2024-01-10T15:02:36.003212500Z"
    }
   },
   "outputs": [],
   "source": [
    "class InversionTransformSampler:\n",
    "    def __init__(self, inverse_cdf):\n",
    "        self.inverse_cdf = inverse_cdf\n",
    "    def draw(self):\n",
    "        u = np.random.uniform(0, 1)\n",
    "        return self.inverse_cdf(u)"
   ]
  },
  {
   "cell_type": "code",
   "execution_count": 13,
   "metadata": {
    "ExecuteTime": {
     "end_time": "2024-01-10T15:02:36.051206900Z",
     "start_time": "2024-01-10T15:02:36.017205700Z"
    }
   },
   "outputs": [],
   "source": [
    "class CumulativeHazard:\n",
    "    def __init__(self, hazard):\n",
    "        self.hazard = hazard\n",
    "    def __call__(self, t):\n",
    "        return scipy.integrate.quad(self.hazard, 0.0, t)[0]"
   ]
  },
  {
   "cell_type": "code",
   "execution_count": 14,
   "metadata": {
    "ExecuteTime": {
     "end_time": "2024-01-10T15:02:36.073205Z",
     "start_time": "2024-01-10T15:02:36.033206900Z"
    }
   },
   "outputs": [],
   "source": [
    "class SurvivalFunction:\n",
    "    def __init__(self, cumulative_hazard):\n",
    "        self.cumulative_hazard = cumulative_hazard\n",
    "    def __call__(self, t):\n",
    "        return np.exp(-self.cumulative_hazard(t))"
   ]
  },
  {
   "cell_type": "code",
   "execution_count": 15,
   "metadata": {
    "ExecuteTime": {
     "end_time": "2024-01-10T15:02:36.074211300Z",
     "start_time": "2024-01-10T15:02:36.048209700Z"
    }
   },
   "outputs": [],
   "source": [
    "class Cdf:\n",
    "    def __init__(self, survival_function):\n",
    "        self.survival_function = survival_function\n",
    "    def __call__(self, t):\n",
    "        return 1.0 - self.survival_function(t)"
   ]
  },
  {
   "cell_type": "code",
   "execution_count": 16,
   "metadata": {
    "ExecuteTime": {
     "end_time": "2024-01-10T15:02:36.086207Z",
     "start_time": "2024-01-10T15:02:36.069211900Z"
    }
   },
   "outputs": [],
   "source": [
    "class InverseCdf:\n",
    "    def __init__(\n",
    "        self, cdf, start, step, precision=1e-8, lower=float(\"-inf\"), upper=float(\"inf\")\n",
    "    ):\n",
    "        self.cdf = cdf\n",
    "        self.precision = precision\n",
    "        self.start = start\n",
    "        self.step = step\n",
    "        self.lower = lower\n",
    "        self.upper = upper\n",
    "    def __call__(self, target_p):\n",
    "        \"\"\"\n",
    "        Takes a proportion p (y-axis value of the cdf) and returns the corresponding\n",
    "        x value from the cdf (to within a certain precision level).\n",
    "        \"\"\"\n",
    "        last_diff = None\n",
    "        step = self.step\n",
    "        current_x = self.start\n",
    "        while True:\n",
    "            current_cdf_value = self.cdf(current_x)\n",
    "            diff = current_cdf_value - target_p\n",
    "            if abs(diff) < self.precision:\n",
    "                break\n",
    "            elif diff < 0:\n",
    "                # current_x is too far to the left, so we increase it\n",
    "                current_x = min(current_x + step, self.upper)\n",
    "                if last_diff is not None and last_diff > 0:\n",
    "                    # if diff and last_diff are opposite signs, take smaller\n",
    "                    # optimization steps\n",
    "                    step *= 0.5\n",
    "                last_diff = diff\n",
    "            else:\n",
    "                # current_x is too far to the right, so we decrease it\n",
    "                current_x = max(current_x - step, self.lower)\n",
    "                if last_diff is not None and last_diff < 0:\n",
    "                    # if diff and last_diff are opposite signs, take smaller\n",
    "                    # optimization steps\n",
    "                    step *= 0.5\n",
    "                last_diff = diff\n",
    "        return current_x"
   ]
  }
 ],
 "metadata": {
  "kernelspec": {
   "display_name": ".venv",
   "language": "python",
   "name": ".venv"
  },
  "language_info": {
   "codemirror_mode": {
    "name": "ipython",
    "version": 3
   },
   "file_extension": ".py",
   "mimetype": "text/x-python",
   "name": "python",
   "nbconvert_exporter": "python",
   "pygments_lexer": "ipython3",
   "version": "3.6.5"
  }
 },
 "nbformat": 4,
 "nbformat_minor": 2
}
