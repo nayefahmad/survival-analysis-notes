{
 "cells": [
  {
   "cell_type": "markdown",
   "id": "703e3451",
   "metadata": {
    "papermill": {
     "duration": 0.005465,
     "end_time": "2024-02-02T20:28:02.150420",
     "exception": false,
     "start_time": "2024-02-02T20:28:02.144955",
     "status": "completed"
    },
    "tags": []
   },
   "source": [
    "# Using the Brier score to evaluate the predictive ability of a time-to-event model\n",
    "\n",
    "References:\n",
    "- [scikit-survival docs - Evaluating survival models](https://scikit-survival.readthedocs.io/en/stable/user_guide/evaluating-survival-models.html#Time-dependent-Brier-Score)\n",
    "    - Discusses the bias of Harrell's c-index, and the fact that it is not a useful measure of performance if a specific time range is of primary interest (e.g. predicting death within 2 years) \n",
    "    - Time-dependent AUC: most relevant if we want to predict occurrence of an event in a period up to time t (rather than at a specific time t). Note that this only measures discrimination, not calibration.  \n",
    "    - Time-dependent Brier score: can be used to assess both calibration and discrimination \n",
    "\n",
    "\n",
    "Todo:\n",
    "- Models:\n",
    "  - M1: null model that takes in X and returns 0.5 for every case\n",
    "  - M2: perfect model that takes in X and passes it to the known Weibull survival\n",
    "      function to get true survival probabilities (or 1-surv_prob if we want a risk\n",
    "      score)\n",
    "  - M3: intermediate model that passes to very similar Weibull params, but not exact\n",
    "  - M4: KM model \"learned\" from training data\n",
    "- set up functions for generating the data and splitting into train/test\n",
    "- Evaluate models M1-M4 on test data\n"
   ]
  },
  {
   "cell_type": "code",
   "execution_count": 1,
   "id": "4235834d",
   "metadata": {
    "_cell_guid": "b1076dfc-b9ad-4769-8c92-a6c4dae69d19",
    "_uuid": "8f2839f25d086af736a60e9eeb907d3b93b6e0e5",
    "execution": {
     "iopub.execute_input": "2024-02-02T20:28:02.163121Z",
     "iopub.status.busy": "2024-02-02T20:28:02.162578Z",
     "iopub.status.idle": "2024-02-02T20:28:24.336560Z",
     "shell.execute_reply": "2024-02-02T20:28:24.334643Z"
    },
    "papermill": {
     "duration": 22.183972,
     "end_time": "2024-02-02T20:28:24.339738",
     "exception": false,
     "start_time": "2024-02-02T20:28:02.155766",
     "status": "completed"
    },
    "scrolled": true,
    "tags": []
   },
   "outputs": [],
   "source": [
    "%%capture\n",
    "!pip install scikit-survival"
   ]
  },
  {
   "cell_type": "code",
   "execution_count": 2,
   "id": "b8a85d1e",
   "metadata": {
    "execution": {
     "iopub.execute_input": "2024-02-02T20:28:24.352913Z",
     "iopub.status.busy": "2024-02-02T20:28:24.351793Z",
     "iopub.status.idle": "2024-02-02T20:28:26.811595Z",
     "shell.execute_reply": "2024-02-02T20:28:26.810226Z"
    },
    "papermill": {
     "duration": 2.469508,
     "end_time": "2024-02-02T20:28:26.814455",
     "exception": false,
     "start_time": "2024-02-02T20:28:24.344947",
     "status": "completed"
    },
    "tags": []
   },
   "outputs": [],
   "source": [
    "import matplotlib.pyplot as plt \n",
    "import numpy as np \n",
    "import pandas as pd \n",
    "from sklearn.model_selection import train_test_split\n",
    "from sksurv.functions import StepFunction\n",
    "from sksurv.datasets import load_gbsg2\n",
    "from sksurv.nonparametric import kaplan_meier_estimator\n",
    "from sksurv.preprocessing import encode_categorical "
   ]
  },
  {
   "cell_type": "code",
   "execution_count": 3,
   "id": "68ea91b3",
   "metadata": {
    "execution": {
     "iopub.execute_input": "2024-02-02T20:28:26.827267Z",
     "iopub.status.busy": "2024-02-02T20:28:26.826707Z",
     "iopub.status.idle": "2024-02-02T20:28:26.831538Z",
     "shell.execute_reply": "2024-02-02T20:28:26.830371Z"
    },
    "papermill": {
     "duration": 0.014106,
     "end_time": "2024-02-02T20:28:26.833846",
     "exception": false,
     "start_time": "2024-02-02T20:28:26.819740",
     "status": "completed"
    },
    "tags": []
   },
   "outputs": [],
   "source": [
    "RANDOM_STATE = 2020 "
   ]
  },
  {
   "cell_type": "code",
   "execution_count": 4,
   "id": "65cb2474",
   "metadata": {
    "execution": {
     "iopub.execute_input": "2024-02-02T20:28:26.846040Z",
     "iopub.status.busy": "2024-02-02T20:28:26.845561Z",
     "iopub.status.idle": "2024-02-02T20:28:26.905065Z",
     "shell.execute_reply": "2024-02-02T20:28:26.903905Z"
    },
    "papermill": {
     "duration": 0.06881,
     "end_time": "2024-02-02T20:28:26.907657",
     "exception": false,
     "start_time": "2024-02-02T20:28:26.838847",
     "status": "completed"
    },
    "tags": []
   },
   "outputs": [],
   "source": [
    "gbsg2_X, gbsg2_y = load_gbsg2()\n",
    "gbsg2_X = encode_categorical(gbsg2_X)\n",
    "\n",
    "df_train_X, df_test_X, df_train_y, df_test_y = (\n",
    "    train_test_split(\n",
    "        gbsg2_X, gbsg2_y,\n",
    "        stratify=gbsg2_y['cens'], \n",
    "        test_size=.20, \n",
    "        random_state=RANDOM_STATE\n",
    "    )\n",
    ")"
   ]
  },
  {
   "cell_type": "code",
   "execution_count": 5,
   "id": "2cb6dca3",
   "metadata": {
    "execution": {
     "iopub.execute_input": "2024-02-02T20:28:26.919420Z",
     "iopub.status.busy": "2024-02-02T20:28:26.918996Z",
     "iopub.status.idle": "2024-02-02T20:28:26.924281Z",
     "shell.execute_reply": "2024-02-02T20:28:26.923134Z"
    },
    "papermill": {
     "duration": 0.014044,
     "end_time": "2024-02-02T20:28:26.926631",
     "exception": false,
     "start_time": "2024-02-02T20:28:26.912587",
     "status": "completed"
    },
    "tags": []
   },
   "outputs": [],
   "source": [
    "assert len(df_train_X) == 548\n",
    "assert len(df_test_X) == 138"
   ]
  },
  {
   "cell_type": "code",
   "execution_count": 6,
   "id": "7d3f2ea9",
   "metadata": {
    "execution": {
     "iopub.execute_input": "2024-02-02T20:28:26.938537Z",
     "iopub.status.busy": "2024-02-02T20:28:26.938112Z",
     "iopub.status.idle": "2024-02-02T20:28:26.952490Z",
     "shell.execute_reply": "2024-02-02T20:28:26.951400Z"
    },
    "papermill": {
     "duration": 0.023011,
     "end_time": "2024-02-02T20:28:26.954770",
     "exception": false,
     "start_time": "2024-02-02T20:28:26.931759",
     "status": "completed"
    },
    "tags": []
   },
   "outputs": [
    {
     "data": {
      "text/plain": [
       "False    0.563869\n",
       "True     0.436131\n",
       "Name: proportion, dtype: float64"
      ]
     },
     "execution_count": 6,
     "metadata": {},
     "output_type": "execute_result"
    }
   ],
   "source": [
    "pd.Series(df_train_y['cens']).value_counts(normalize=True)"
   ]
  },
  {
   "cell_type": "code",
   "execution_count": 7,
   "id": "597d37e9",
   "metadata": {
    "execution": {
     "iopub.execute_input": "2024-02-02T20:28:26.966661Z",
     "iopub.status.busy": "2024-02-02T20:28:26.966233Z",
     "iopub.status.idle": "2024-02-02T20:28:26.975823Z",
     "shell.execute_reply": "2024-02-02T20:28:26.974755Z"
    },
    "papermill": {
     "duration": 0.018501,
     "end_time": "2024-02-02T20:28:26.978303",
     "exception": false,
     "start_time": "2024-02-02T20:28:26.959802",
     "status": "completed"
    },
    "tags": []
   },
   "outputs": [
    {
     "data": {
      "text/plain": [
       "False    0.565217\n",
       "True     0.434783\n",
       "Name: proportion, dtype: float64"
      ]
     },
     "execution_count": 7,
     "metadata": {},
     "output_type": "execute_result"
    }
   ],
   "source": [
    "pd.Series(df_test_y['cens']).value_counts(normalize=True)"
   ]
  },
  {
   "cell_type": "code",
   "execution_count": 8,
   "id": "4b352584",
   "metadata": {
    "execution": {
     "iopub.execute_input": "2024-02-02T20:28:26.991066Z",
     "iopub.status.busy": "2024-02-02T20:28:26.990608Z",
     "iopub.status.idle": "2024-02-02T20:28:27.005300Z",
     "shell.execute_reply": "2024-02-02T20:28:27.004492Z"
    },
    "papermill": {
     "duration": 0.023931,
     "end_time": "2024-02-02T20:28:27.007687",
     "exception": false,
     "start_time": "2024-02-02T20:28:26.983756",
     "status": "completed"
    },
    "tags": []
   },
   "outputs": [
    {
     "data": {
      "text/html": [
       "<div>\n",
       "<style scoped>\n",
       "    .dataframe tbody tr th:only-of-type {\n",
       "        vertical-align: middle;\n",
       "    }\n",
       "\n",
       "    .dataframe tbody tr th {\n",
       "        vertical-align: top;\n",
       "    }\n",
       "\n",
       "    .dataframe thead th {\n",
       "        text-align: right;\n",
       "    }\n",
       "</style>\n",
       "<table border=\"1\" class=\"dataframe\">\n",
       "  <thead>\n",
       "    <tr style=\"text-align: right;\">\n",
       "      <th></th>\n",
       "      <th>cens</th>\n",
       "      <th>time</th>\n",
       "    </tr>\n",
       "  </thead>\n",
       "  <tbody>\n",
       "    <tr>\n",
       "      <th>0</th>\n",
       "      <td>True</td>\n",
       "      <td>372.0</td>\n",
       "    </tr>\n",
       "    <tr>\n",
       "      <th>1</th>\n",
       "      <td>True</td>\n",
       "      <td>371.0</td>\n",
       "    </tr>\n",
       "    <tr>\n",
       "      <th>2</th>\n",
       "      <td>False</td>\n",
       "      <td>1434.0</td>\n",
       "    </tr>\n",
       "    <tr>\n",
       "      <th>3</th>\n",
       "      <td>True</td>\n",
       "      <td>1730.0</td>\n",
       "    </tr>\n",
       "    <tr>\n",
       "      <th>4</th>\n",
       "      <td>False</td>\n",
       "      <td>2401.0</td>\n",
       "    </tr>\n",
       "  </tbody>\n",
       "</table>\n",
       "</div>"
      ],
      "text/plain": [
       "    cens    time\n",
       "0   True   372.0\n",
       "1   True   371.0\n",
       "2  False  1434.0\n",
       "3   True  1730.0\n",
       "4  False  2401.0"
      ]
     },
     "execution_count": 8,
     "metadata": {},
     "output_type": "execute_result"
    }
   ],
   "source": [
    "pd.DataFrame(df_train_y).head()"
   ]
  },
  {
   "cell_type": "markdown",
   "id": "3a1250d4",
   "metadata": {
    "papermill": {
     "duration": 0.005225,
     "end_time": "2024-02-02T20:28:27.018495",
     "exception": false,
     "start_time": "2024-02-02T20:28:27.013270",
     "status": "completed"
    },
    "tags": []
   },
   "source": [
    "# Models"
   ]
  },
  {
   "cell_type": "code",
   "execution_count": 9,
   "id": "57ab7fe8",
   "metadata": {
    "execution": {
     "iopub.execute_input": "2024-02-02T20:28:27.031566Z",
     "iopub.status.busy": "2024-02-02T20:28:27.031143Z",
     "iopub.status.idle": "2024-02-02T20:28:27.041481Z",
     "shell.execute_reply": "2024-02-02T20:28:27.040409Z"
    },
    "papermill": {
     "duration": 0.019526,
     "end_time": "2024-02-02T20:28:27.043649",
     "exception": false,
     "start_time": "2024-02-02T20:28:27.024123",
     "status": "completed"
    },
    "tags": []
   },
   "outputs": [],
   "source": [
    "m01_km = kaplan_meier_estimator(df_train_y['cens'], df_train_y['time'], conf_type='log-log')\n",
    "m01_time, m01_prob, m01_conf_limits = m01_km"
   ]
  },
  {
   "cell_type": "code",
   "execution_count": 10,
   "id": "12288c31",
   "metadata": {
    "execution": {
     "iopub.execute_input": "2024-02-02T20:28:27.057194Z",
     "iopub.status.busy": "2024-02-02T20:28:27.056518Z",
     "iopub.status.idle": "2024-02-02T20:28:27.329707Z",
     "shell.execute_reply": "2024-02-02T20:28:27.328539Z"
    },
    "papermill": {
     "duration": 0.282924,
     "end_time": "2024-02-02T20:28:27.332244",
     "exception": false,
     "start_time": "2024-02-02T20:28:27.049320",
     "status": "completed"
    },
    "tags": []
   },
   "outputs": [
    {
     "data": {
      "image/png": "[encoded data removed]",
      "text/plain": [
       "<Figure size 640x480 with 1 Axes>"
      ]
     },
     "metadata": {},
     "output_type": "display_data"
    }
   ],
   "source": [
    "plt.step(x=m01_time, y=m01_prob, where='post')\n",
    "plt.fill_between(m01_time, m01_conf_limits[0], m01_conf_limits[1], alpha=.25, step='post')\n",
    "plt.ylim(0, 1)\n",
    "plt.xlim(0,)\n",
    "plt.show()"
   ]
  },
  {
   "cell_type": "code",
   "execution_count": null,
   "id": "6902289e",
   "metadata": {
    "papermill": {
     "duration": 0.005546,
     "end_time": "2024-02-02T20:28:27.343683",
     "exception": false,
     "start_time": "2024-02-02T20:28:27.338137",
     "status": "completed"
    },
    "tags": []
   },
   "outputs": [],
   "source": []
  }
 ],
 "metadata": {
  "kaggle": {
   "accelerator": "none",
   "dataSources": [],
   "dockerImageVersionId": 30635,
   "isGpuEnabled": false,
   "isInternetEnabled": true,
   "language": "python",
   "sourceType": "notebook"
  },
  "kernelspec": {
   "display_name": "Python 3",
   "language": "python",
   "name": "python3"
  },
  "language_info": {
   "codemirror_mode": {
    "name": "ipython",
    "version": 3
   },
   "file_extension": ".py",
   "mimetype": "text/x-python",
   "name": "python",
   "nbconvert_exporter": "python",
   "pygments_lexer": "ipython3",
   "version": "3.10.12"
  },
  "papermill": {
   "default_parameters": {},
   "duration": 30.325115,
   "end_time": "2024-02-02T20:28:27.971163",
   "environment_variables": {},
   "exception": null,
   "input_path": "__notebook__.ipynb",
   "output_path": "__notebook__.ipynb",
   "parameters": {},
   "start_time": "2024-02-02T20:27:57.646048",
   "version": "2.4.0"
  }
 },
 "nbformat": 4,
 "nbformat_minor": 5
}
