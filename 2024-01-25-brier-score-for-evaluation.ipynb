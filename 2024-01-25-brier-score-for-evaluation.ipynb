{
 "cells": [
  {
   "cell_type": "markdown",
   "id": "1fb0eeed",
   "metadata": {
    "papermill": {
     "duration": 0.003134,
     "end_time": "2024-01-30T16:11:26.290704",
     "exception": false,
     "start_time": "2024-01-30T16:11:26.287570",
     "status": "completed"
    },
    "tags": []
   },
   "source": [
    "# Using the Brier score to evaluate the predictive ability of a time-to-event model\n",
    "\n",
    "References:\n",
    "- [scikit-survival docs - Evaluating survival models](https://scikit-survival.readthedocs.io/en/stable/user_guide/evaluating-survival-models.html#Time-dependent-Brier-Score)\n",
    "    - Discusses the bias of Harrell's c-index, and the fact that it is not a useful measure of performance if a specific time range is of primary interest (e.g. predicting death within 2 years) \n",
    "    - Time-dependent AUC: most relevant if we want to predict occurrence of an event in a period up to time t (rather than at a specific time t). Note that this only measures discrimination, not calibration.  \n",
    "    - Time-dependent Brier score: can be used to assess both calibration and discrimination \n",
    "\n",
    "\n",
    "Todo:\n",
    "- Models:\n",
    "  - M1: null model that takes in X and returns 0.5 for every case\n",
    "  - M2: perfect model that takes in X and passes it to the known Weibull survival\n",
    "      function to get true survival probabilities (or 1-surv_prob if we want a risk\n",
    "      score)\n",
    "  - M3: intermediate model that passes to very similar Weibull params, but not exact\n",
    "  - M4: KM model \"learned\" from training data\n",
    "- set up functions for generating the data and splitting into train/test\n",
    "- Evaluate models M1-M4 on test data\n"
   ]
  },
  {
   "cell_type": "code",
   "execution_count": 1,
   "id": "6d8176aa",
   "metadata": {
    "_cell_guid": "b1076dfc-b9ad-4769-8c92-a6c4dae69d19",
    "_uuid": "8f2839f25d086af736a60e9eeb907d3b93b6e0e5",
    "execution": {
     "iopub.execute_input": "2024-01-30T16:11:26.299247Z",
     "iopub.status.busy": "2024-01-30T16:11:26.298157Z",
     "iopub.status.idle": "2024-01-30T16:11:49.435717Z",
     "shell.execute_reply": "2024-01-30T16:11:49.433948Z"
    },
    "papermill": {
     "duration": 23.146071,
     "end_time": "2024-01-30T16:11:49.439591",
     "exception": false,
     "start_time": "2024-01-30T16:11:26.293520",
     "status": "completed"
    },
    "scrolled": true,
    "tags": []
   },
   "outputs": [],
   "source": [
    "%%capture\n",
    "!pip install scikit-survival"
   ]
  },
  {
   "cell_type": "code",
   "execution_count": null,
   "id": "923ba0a9",
   "metadata": {
    "papermill": {
     "duration": 0.002069,
     "end_time": "2024-01-30T16:11:49.444453",
     "exception": false,
     "start_time": "2024-01-30T16:11:49.442384",
     "status": "completed"
    },
    "tags": []
   },
   "outputs": [],
   "source": []
  }
 ],
 "metadata": {
  "kaggle": {
   "accelerator": "none",
   "dataSources": [],
   "dockerImageVersionId": 30635,
   "isGpuEnabled": false,
   "isInternetEnabled": true,
   "language": "python",
   "sourceType": "notebook"
  },
  "kernelspec": {
   "display_name": "Python 3",
   "language": "python",
   "name": "python3"
  },
  "language_info": {
   "codemirror_mode": {
    "name": "ipython",
    "version": 3
   },
   "file_extension": ".py",
   "mimetype": "text/x-python",
   "name": "python",
   "nbconvert_exporter": "python",
   "pygments_lexer": "ipython3",
   "version": "3.10.12"
  },
  "papermill": {
   "default_parameters": {},
   "duration": 28.375142,
   "end_time": "2024-01-30T16:11:49.870647",
   "environment_variables": {},
   "exception": null,
   "input_path": "__notebook__.ipynb",
   "output_path": "__notebook__.ipynb",
   "parameters": {},
   "start_time": "2024-01-30T16:11:21.495505",
   "version": "2.4.0"
  }
 },
 "nbformat": 4,
 "nbformat_minor": 5
}
