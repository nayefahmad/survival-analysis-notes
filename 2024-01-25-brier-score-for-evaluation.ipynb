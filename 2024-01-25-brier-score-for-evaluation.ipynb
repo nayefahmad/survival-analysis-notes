{
 "cells": [
  {
   "cell_type": "markdown",
   "id": "d34059bc",
   "metadata": {
    "papermill": {
     "duration": 0.003625,
     "end_time": "2024-01-31T17:26:14.745179",
     "exception": false,
     "start_time": "2024-01-31T17:26:14.741554",
     "status": "completed"
    },
    "tags": []
   },
   "source": [
    "# Using the Brier score to evaluate the predictive ability of a time-to-event model\n",
    "\n",
    "References:\n",
    "- [scikit-survival docs - Evaluating survival models](https://scikit-survival.readthedocs.io/en/stable/user_guide/evaluating-survival-models.html#Time-dependent-Brier-Score)\n",
    "    - Discusses the bias of Harrell's c-index, and the fact that it is not a useful measure of performance if a specific time range is of primary interest (e.g. predicting death within 2 years) \n",
    "    - Time-dependent AUC: most relevant if we want to predict occurrence of an event in a period up to time t (rather than at a specific time t). Note that this only measures discrimination, not calibration.  \n",
    "    - Time-dependent Brier score: can be used to assess both calibration and discrimination \n",
    "\n",
    "\n",
    "Todo:\n",
    "- Models:\n",
    "  - M1: null model that takes in X and returns 0.5 for every case\n",
    "  - M2: perfect model that takes in X and passes it to the known Weibull survival\n",
    "      function to get true survival probabilities (or 1-surv_prob if we want a risk\n",
    "      score)\n",
    "  - M3: intermediate model that passes to very similar Weibull params, but not exact\n",
    "  - M4: KM model \"learned\" from training data\n",
    "- set up functions for generating the data and splitting into train/test\n",
    "- Evaluate models M1-M4 on test data\n"
   ]
  },
  {
   "cell_type": "code",
   "execution_count": 1,
   "id": "207ff778",
   "metadata": {
    "_cell_guid": "b1076dfc-b9ad-4769-8c92-a6c4dae69d19",
    "_uuid": "8f2839f25d086af736a60e9eeb907d3b93b6e0e5",
    "execution": {
     "iopub.execute_input": "2024-01-31T17:26:14.753693Z",
     "iopub.status.busy": "2024-01-31T17:26:14.752998Z",
     "iopub.status.idle": "2024-01-31T17:26:32.024416Z",
     "shell.execute_reply": "2024-01-31T17:26:32.023339Z"
    },
    "papermill": {
     "duration": 17.279441,
     "end_time": "2024-01-31T17:26:32.027995",
     "exception": false,
     "start_time": "2024-01-31T17:26:14.748554",
     "status": "completed"
    },
    "scrolled": true,
    "tags": []
   },
   "outputs": [],
   "source": [
    "%%capture\n",
    "!pip install scikit-survival"
   ]
  },
  {
   "cell_type": "code",
   "execution_count": 2,
   "id": "a636bb52",
   "metadata": {
    "execution": {
     "iopub.execute_input": "2024-01-31T17:26:32.036379Z",
     "iopub.status.busy": "2024-01-31T17:26:32.036034Z",
     "iopub.status.idle": "2024-01-31T17:26:34.426593Z",
     "shell.execute_reply": "2024-01-31T17:26:34.425258Z"
    },
    "papermill": {
     "duration": 2.39787,
     "end_time": "2024-01-31T17:26:34.429282",
     "exception": false,
     "start_time": "2024-01-31T17:26:32.031412",
     "status": "completed"
    },
    "tags": []
   },
   "outputs": [],
   "source": [
    "import numpy as np \n",
    "import pandas as pd \n",
    "from sklearn.model_selection import train_test_split\n",
    "from sksurv.datasets import load_gbsg2\n",
    "from sksurv.nonparametric import kaplan_meier_estimator\n",
    "from sksurv.preprocessing import encode_categorical "
   ]
  },
  {
   "cell_type": "code",
   "execution_count": 3,
   "id": "bac0def8",
   "metadata": {
    "execution": {
     "iopub.execute_input": "2024-01-31T17:26:34.438966Z",
     "iopub.status.busy": "2024-01-31T17:26:34.438393Z",
     "iopub.status.idle": "2024-01-31T17:26:34.444323Z",
     "shell.execute_reply": "2024-01-31T17:26:34.442589Z"
    },
    "papermill": {
     "duration": 0.014328,
     "end_time": "2024-01-31T17:26:34.447454",
     "exception": false,
     "start_time": "2024-01-31T17:26:34.433126",
     "status": "completed"
    },
    "tags": []
   },
   "outputs": [],
   "source": [
    "RANDOM_STATE = 2020 "
   ]
  },
  {
   "cell_type": "code",
   "execution_count": 4,
   "id": "b092d044",
   "metadata": {
    "execution": {
     "iopub.execute_input": "2024-01-31T17:26:34.456372Z",
     "iopub.status.busy": "2024-01-31T17:26:34.455930Z",
     "iopub.status.idle": "2024-01-31T17:26:34.508775Z",
     "shell.execute_reply": "2024-01-31T17:26:34.507252Z"
    },
    "papermill": {
     "duration": 0.06039,
     "end_time": "2024-01-31T17:26:34.511523",
     "exception": false,
     "start_time": "2024-01-31T17:26:34.451133",
     "status": "completed"
    },
    "tags": []
   },
   "outputs": [],
   "source": [
    "gbsg2_X, gbsg2_y = load_gbsg2()\n",
    "gbsg2_X = encode_categorical(gbsg2_X)\n",
    "\n",
    "df_train_X, df_test_X, df_train_y, df_test_y = (\n",
    "    train_test_split(\n",
    "        gbsg2_X, gbsg2_y,\n",
    "        stratify=gbsg2_y['cens'], \n",
    "        test_size=.20, \n",
    "        random_state=RANDOM_STATE\n",
    "    )\n",
    ")"
   ]
  },
  {
   "cell_type": "code",
   "execution_count": 5,
   "id": "85502c3d",
   "metadata": {
    "execution": {
     "iopub.execute_input": "2024-01-31T17:26:34.519866Z",
     "iopub.status.busy": "2024-01-31T17:26:34.519465Z",
     "iopub.status.idle": "2024-01-31T17:26:34.525410Z",
     "shell.execute_reply": "2024-01-31T17:26:34.523527Z"
    },
    "papermill": {
     "duration": 0.012564,
     "end_time": "2024-01-31T17:26:34.527541",
     "exception": false,
     "start_time": "2024-01-31T17:26:34.514977",
     "status": "completed"
    },
    "tags": []
   },
   "outputs": [],
   "source": [
    "assert len(df_train_X) == 548\n",
    "assert len(df_test_X) == 138"
   ]
  },
  {
   "cell_type": "code",
   "execution_count": 6,
   "id": "de8c15ea",
   "metadata": {
    "execution": {
     "iopub.execute_input": "2024-01-31T17:26:34.536007Z",
     "iopub.status.busy": "2024-01-31T17:26:34.535595Z",
     "iopub.status.idle": "2024-01-31T17:26:34.549594Z",
     "shell.execute_reply": "2024-01-31T17:26:34.548205Z"
    },
    "papermill": {
     "duration": 0.020607,
     "end_time": "2024-01-31T17:26:34.551706",
     "exception": false,
     "start_time": "2024-01-31T17:26:34.531099",
     "status": "completed"
    },
    "tags": []
   },
   "outputs": [
    {
     "data": {
      "text/plain": [
       "False    0.563869\n",
       "True     0.436131\n",
       "Name: proportion, dtype: float64"
      ]
     },
     "execution_count": 6,
     "metadata": {},
     "output_type": "execute_result"
    }
   ],
   "source": [
    "pd.Series(df_train_y['cens']).value_counts(normalize=True)"
   ]
  },
  {
   "cell_type": "code",
   "execution_count": 7,
   "id": "8e9ff055",
   "metadata": {
    "execution": {
     "iopub.execute_input": "2024-01-31T17:26:34.559809Z",
     "iopub.status.busy": "2024-01-31T17:26:34.559471Z",
     "iopub.status.idle": "2024-01-31T17:26:34.569696Z",
     "shell.execute_reply": "2024-01-31T17:26:34.568315Z"
    },
    "papermill": {
     "duration": 0.017339,
     "end_time": "2024-01-31T17:26:34.572471",
     "exception": false,
     "start_time": "2024-01-31T17:26:34.555132",
     "status": "completed"
    },
    "tags": []
   },
   "outputs": [
    {
     "data": {
      "text/plain": [
       "False    0.565217\n",
       "True     0.434783\n",
       "Name: proportion, dtype: float64"
      ]
     },
     "execution_count": 7,
     "metadata": {},
     "output_type": "execute_result"
    }
   ],
   "source": [
    "pd.Series(df_test_y['cens']).value_counts(normalize=True)"
   ]
  },
  {
   "cell_type": "code",
   "execution_count": 8,
   "id": "6fb890a5",
   "metadata": {
    "execution": {
     "iopub.execute_input": "2024-01-31T17:26:34.581799Z",
     "iopub.status.busy": "2024-01-31T17:26:34.581452Z",
     "iopub.status.idle": "2024-01-31T17:26:34.598136Z",
     "shell.execute_reply": "2024-01-31T17:26:34.596542Z"
    },
    "papermill": {
     "duration": 0.024541,
     "end_time": "2024-01-31T17:26:34.600718",
     "exception": false,
     "start_time": "2024-01-31T17:26:34.576177",
     "status": "completed"
    },
    "tags": []
   },
   "outputs": [
    {
     "data": {
      "text/html": [
       "<div>\n",
       "<style scoped>\n",
       "    .dataframe tbody tr th:only-of-type {\n",
       "        vertical-align: middle;\n",
       "    }\n",
       "\n",
       "    .dataframe tbody tr th {\n",
       "        vertical-align: top;\n",
       "    }\n",
       "\n",
       "    .dataframe thead th {\n",
       "        text-align: right;\n",
       "    }\n",
       "</style>\n",
       "<table border=\"1\" class=\"dataframe\">\n",
       "  <thead>\n",
       "    <tr style=\"text-align: right;\">\n",
       "      <th></th>\n",
       "      <th>cens</th>\n",
       "      <th>time</th>\n",
       "    </tr>\n",
       "  </thead>\n",
       "  <tbody>\n",
       "    <tr>\n",
       "      <th>0</th>\n",
       "      <td>True</td>\n",
       "      <td>372.0</td>\n",
       "    </tr>\n",
       "    <tr>\n",
       "      <th>1</th>\n",
       "      <td>True</td>\n",
       "      <td>371.0</td>\n",
       "    </tr>\n",
       "    <tr>\n",
       "      <th>2</th>\n",
       "      <td>False</td>\n",
       "      <td>1434.0</td>\n",
       "    </tr>\n",
       "    <tr>\n",
       "      <th>3</th>\n",
       "      <td>True</td>\n",
       "      <td>1730.0</td>\n",
       "    </tr>\n",
       "    <tr>\n",
       "      <th>4</th>\n",
       "      <td>False</td>\n",
       "      <td>2401.0</td>\n",
       "    </tr>\n",
       "  </tbody>\n",
       "</table>\n",
       "</div>"
      ],
      "text/plain": [
       "    cens    time\n",
       "0   True   372.0\n",
       "1   True   371.0\n",
       "2  False  1434.0\n",
       "3   True  1730.0\n",
       "4  False  2401.0"
      ]
     },
     "execution_count": 8,
     "metadata": {},
     "output_type": "execute_result"
    }
   ],
   "source": [
    "pd.DataFrame(df_train_y).head()"
   ]
  },
  {
   "cell_type": "markdown",
   "id": "3dca2e38",
   "metadata": {
    "papermill": {
     "duration": 0.003485,
     "end_time": "2024-01-31T17:26:34.608070",
     "exception": false,
     "start_time": "2024-01-31T17:26:34.604585",
     "status": "completed"
    },
    "tags": []
   },
   "source": [
    "# Models"
   ]
  },
  {
   "cell_type": "code",
   "execution_count": 9,
   "id": "e933ddf7",
   "metadata": {
    "execution": {
     "iopub.execute_input": "2024-01-31T17:26:34.617180Z",
     "iopub.status.busy": "2024-01-31T17:26:34.616704Z",
     "iopub.status.idle": "2024-01-31T17:26:34.624452Z",
     "shell.execute_reply": "2024-01-31T17:26:34.623428Z"
    },
    "papermill": {
     "duration": 0.01525,
     "end_time": "2024-01-31T17:26:34.627000",
     "exception": false,
     "start_time": "2024-01-31T17:26:34.611750",
     "status": "completed"
    },
    "tags": []
   },
   "outputs": [],
   "source": [
    "m01_km = kaplan_meier_estimator(df_train_y['cens'], df_train_y['time'])"
   ]
  },
  {
   "cell_type": "code",
   "execution_count": null,
   "id": "292f0339",
   "metadata": {
    "execution": {
     "iopub.execute_input": "2024-01-31T17:16:55.238910Z",
     "iopub.status.busy": "2024-01-31T17:16:55.238463Z",
     "iopub.status.idle": "2024-01-31T17:16:55.253487Z",
     "shell.execute_reply": "2024-01-31T17:16:55.251755Z",
     "shell.execute_reply.started": "2024-01-31T17:16:55.238878Z"
    },
    "papermill": {
     "duration": 0.003365,
     "end_time": "2024-01-31T17:26:34.634344",
     "exception": false,
     "start_time": "2024-01-31T17:26:34.630979",
     "status": "completed"
    },
    "tags": []
   },
   "outputs": [],
   "source": []
  },
  {
   "cell_type": "code",
   "execution_count": null,
   "id": "175b54de",
   "metadata": {
    "papermill": {
     "duration": 0.00367,
     "end_time": "2024-01-31T17:26:34.641652",
     "exception": false,
     "start_time": "2024-01-31T17:26:34.637982",
     "status": "completed"
    },
    "tags": []
   },
   "outputs": [],
   "source": []
  }
 ],
 "metadata": {
  "kaggle": {
   "accelerator": "none",
   "dataSources": [],
   "dockerImageVersionId": 30635,
   "isGpuEnabled": false,
   "isInternetEnabled": true,
   "language": "python",
   "sourceType": "notebook"
  },
  "kernelspec": {
   "display_name": "Python 3",
   "language": "python",
   "name": "python3"
  },
  "language_info": {
   "codemirror_mode": {
    "name": "ipython",
    "version": 3
   },
   "file_extension": ".py",
   "mimetype": "text/x-python",
   "name": "python",
   "nbconvert_exporter": "python",
   "pygments_lexer": "ipython3",
   "version": "3.10.12"
  },
  "papermill": {
   "default_parameters": {},
   "duration": 24.313274,
   "end_time": "2024-01-31T17:26:35.267666",
   "environment_variables": {},
   "exception": null,
   "input_path": "__notebook__.ipynb",
   "output_path": "__notebook__.ipynb",
   "parameters": {},
   "start_time": "2024-01-31T17:26:10.954392",
   "version": "2.4.0"
  }
 },
 "nbformat": 4,
 "nbformat_minor": 5
}
